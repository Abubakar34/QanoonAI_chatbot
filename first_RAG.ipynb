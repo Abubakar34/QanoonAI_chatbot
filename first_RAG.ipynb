{
 "cells": [
  {
   "cell_type": "code",
   "execution_count": 1,
   "metadata": {},
   "outputs": [],
   "source": [
    "import os\n",
    "from dotenv import load_dotenv\n",
    "\n",
    "from langchain_groq import ChatGroq\n",
    "from langchain_openai import ChatOpenAI\n",
    "\n",
    "from langchain_community.document_loaders import PyPDFLoader\n",
    "from langchain_text_splitters import RecursiveCharacterTextSplitter\n",
    "\n",
    "from langchain_openai import OpenAIEmbeddings\n",
    "from langchain_ollama.embeddings import OllamaEmbeddings\n",
    "\n",
    "from langchain.vectorstores import Chroma\n",
    "from langchain.vectorstores import FAISS\n",
    "\n",
    "from langchain.prompts import PromptTemplate\n",
    "from langchain.prompts import ChatPromptTemplate\n",
    "\n",
    "from langchain.chains.combine_documents import create_stuff_documents_chain\n",
    "from langchain.chains import create_retrieval_chain"
   ]
  },
  {
   "cell_type": "code",
   "execution_count": 10,
   "metadata": {},
   "outputs": [
    {
     "data": {
      "text/plain": [
       "True"
      ]
     },
     "execution_count": 10,
     "metadata": {},
     "output_type": "execute_result"
    }
   ],
   "source": [
    "load_dotenv()"
   ]
  },
  {
   "cell_type": "code",
   "execution_count": 11,
   "metadata": {},
   "outputs": [],
   "source": [
    "os.environ[\"OPENAI_API_KEY\"] = os.getenv(\"OPENAI_API_KEY\")\n",
    "os.environ[\"GROQ_API_KEY\"] = os.getenv(\"GROQ_API_KEY\")"
   ]
  },
  {
   "cell_type": "code",
   "execution_count": 2,
   "metadata": {},
   "outputs": [],
   "source": [
    "loder = PyPDFLoader(\"./data/law.pdf\")\n",
    "\n",
    "docs = loder.load()"
   ]
  },
  {
   "cell_type": "code",
   "execution_count": 3,
   "metadata": {},
   "outputs": [
    {
     "data": {
      "text/plain": [
       "164"
      ]
     },
     "execution_count": 3,
     "metadata": {},
     "output_type": "execute_result"
    }
   ],
   "source": [
    "len(docs)"
   ]
  },
  {
   "cell_type": "code",
   "execution_count": 4,
   "metadata": {},
   "outputs": [
    {
     "name": "stdout",
     "output_type": "stream",
     "text": [
      "shall be punished with imprisonment of either description for a term which may extend \n",
      "to three years, and shall also be liable to fine.  \n",
      "  \n",
      "(2) Any person of the Qaudiani group or Lahori group (who call themselves \"Ahmadis\" or \n",
      "by any other name) who by words, either spoken or written, or by visible \n",
      "representation refers to the mode or form of call to prayers followed by his faith as \n",
      "\"Azan\", or recites Azan as used by the Muslims, shall be punished with imprisonment \n",
      "of either description for a term which may extend to three years, and shall also be \n",
      "liable to fine.  \n",
      "  \n",
      " \n",
      "  \n",
      "298-\n",
      "C. \n",
      "Person of Quadiani group, etc., calling himself a Muslim or preaching or propagating \n",
      "his faith: \n",
      "Any person of the Quadiani group or the Lahori group (who call themselves 'Ahmadis' or \n",
      "by any other name), who directly or indirectly, poses himself as a Muslim, or calls, or \n",
      "refers to, his faith as Islam, or preaches or propagates his faith, or invites others to accept \n",
      "his faith, by words, either spoken or written, or by visible representations, or in any manner \n",
      "whatsoever outrages the religious feelings of Muslims shall be punished with imprisonment \n",
      "of either description for a term which may extend to three years and shall also be liable to \n",
      "fine. \n",
      "  \n",
      "] 110 111[  \n",
      " \n",
      "XVI \n",
      "OF OFFENCES AFFECTING THE HUMAN BODY \n",
      " \n",
      "Of Offences Affecting Life \n",
      "299. Definitions: \n",
      "In this Chapter, unless there is anything repugnant in the subject or context:  \n",
      "(a) \"adult\" means a person who has attained the age of eighteen years; \n",
      "(b) \"arsh\" means the compensation specified in this Chapter to be paid to the victim or his \n",
      "heirs under this Chapter;  \n",
      "(c) \"authorised medical officer\" means a medical officer or a Medical board, howsoever \n",
      "designated, authorised by the Provincial Government;  \n",
      "(d) \"daman\" means the compensation determined by the Court to be paid by the offender to \n",
      "the victim for causing hurt not liable to arsh;  \n",
      "(e) \"diyat\" means the compensation specified in Section 323 payable to the heirs of the \n",
      "victim;  \n",
      "(f) \"Government\" means th e Provincial Government; \n",
      "(g) \"ikrah-e-tam\" means putting any person, his spouse or any of his blood relations within\n"
     ]
    }
   ],
   "source": [
    "print(docs[80].page_content)"
   ]
  },
  {
   "cell_type": "code",
   "execution_count": 5,
   "metadata": {},
   "outputs": [],
   "source": [
    "text_splitter = RecursiveCharacterTextSplitter(chunk_size=1500, chunk_overlap=300)\n",
    "text = text_splitter.split_documents(docs)"
   ]
  },
  {
   "cell_type": "code",
   "execution_count": 6,
   "metadata": {},
   "outputs": [
    {
     "data": {
      "text/plain": [
       "392"
      ]
     },
     "execution_count": 6,
     "metadata": {},
     "output_type": "execute_result"
    }
   ],
   "source": [
    "len(text)"
   ]
  },
  {
   "cell_type": "code",
   "execution_count": 7,
   "metadata": {},
   "outputs": [
    {
     "name": "stdout",
     "output_type": "stream",
     "text": [
      "abetment, be punished with the punishment provided for the offence:  \n",
      " 26[  \n",
      "Provided that, except in case of Ikrah-i-Tam, the, abettor of an offence referred to in \n",
      "Chapter XVI shall be liable to punishment of ta'zir specified for such offence including \n",
      "death.  \n",
      "] 26 \n",
      "Explanation: An act or offence is said-to be committed in consequence of abetment, when \n",
      "it is committed in consequence of the instigation, or in pursuance of the conspiracy, or with \n",
      "the aid which constitutes the abetment.  \n",
      " \n",
      "Illustrations \n",
      "(a) A offers a bribe to B, a public servant, as a reward for showing A some favour in the \n",
      "exercise of B's official functions. B accepts the bribe. A has abetted the offence defined \n",
      "in Section 161.  \n",
      "  \n",
      "(b) A instigates B to give false evidence. B, in consequence of the instigation commits that \n",
      "offence. A is guilty of abetting that offence, and is liable to the same punishment as B. \n",
      "  \n",
      "(c) A and B conspire to poison Z. A, in pursuance of the conspiracy, procures the poison \n",
      "and delivers it to B in order that he may administer it to Z. B, in pursuance of the \n",
      "conspiracy, administers the poison to Z in A's absence and thereby causes Z's death. \n",
      "Here B is guilty of murder. A is guilty, of abetting that offence by conspiracy, and is \n",
      "liable to the punishment for murder.\n"
     ]
    }
   ],
   "source": [
    "print(text[60].page_content)"
   ]
  },
  {
   "cell_type": "code",
   "execution_count": 13,
   "metadata": {},
   "outputs": [],
   "source": [
    "# emdeddings = OllamaEmbeddings(model=\"nomic-embed-text\")\n",
    "embeddings = OpenAIEmbeddings(model=\"text-embedding-3-small\")"
   ]
  },
  {
   "cell_type": "code",
   "execution_count": 17,
   "metadata": {},
   "outputs": [],
   "source": [
    "faiss_vector_store = FAISS.from_documents(documents=text, embedding=embeddings)"
   ]
  },
  {
   "cell_type": "code",
   "execution_count": 18,
   "metadata": {},
   "outputs": [],
   "source": [
    "faiss_vector_store.save_local(\"faiss_index\")"
   ]
  },
  {
   "cell_type": "code",
   "execution_count": 56,
   "metadata": {},
   "outputs": [],
   "source": [
    "retriever = faiss_vector_store.as_retriever(kwargs={\"search_kwargs\": {\"k\": 5}})"
   ]
  },
  {
   "cell_type": "code",
   "execution_count": null,
   "metadata": {},
   "outputs": [
    {
     "data": {
      "text/plain": [
       "ChatPromptTemplate(input_variables=['context', 'input'], input_types={}, partial_variables={}, messages=[SystemMessagePromptTemplate(prompt=PromptTemplate(input_variables=['context'], input_types={}, partial_variables={}, template='You are a helpful assistant that answers questions about law in saimple and understandable language based on the given {context} only.'), additional_kwargs={}), HumanMessagePromptTemplate(prompt=PromptTemplate(input_variables=['input'], input_types={}, partial_variables={}, template='{input}'), additional_kwargs={})])"
      ]
     },
     "execution_count": 41,
     "metadata": {},
     "output_type": "execute_result"
    }
   ],
   "source": [
    "prompt = ChatPromptTemplate.from_messages([\n",
    "    (\"system\", \"You are a helpful assistant and your name is 'Jolly LLB' that answers questions about law in saimple and understandable language based on the given context only. if the context does not have enough information then say I'don;t have information abouth this question. Context is: {context}.\"),\n",
    "    (\"human\", \"{input}\"),\n",
    "])\n",
    "prompt"
   ]
  },
  {
   "cell_type": "code",
   "execution_count": 48,
   "metadata": {},
   "outputs": [],
   "source": [
    "llm = ChatGroq(model=\"deepseek-r1-distill-llama-70b\")"
   ]
  },
  {
   "cell_type": "code",
   "execution_count": null,
   "metadata": {},
   "outputs": [],
   "source": [
    "document_chain = create_stuff_documents_chain(llm, prompt)"
   ]
  },
  {
   "cell_type": "code",
   "execution_count": 57,
   "metadata": {},
   "outputs": [],
   "source": [
    "retriever_chain  = create_retrieval_chain(retriever=retriever, combine_docs_chain=document_chain)"
   ]
  },
  {
   "cell_type": "code",
   "execution_count": 58,
   "metadata": {},
   "outputs": [
    {
     "data": {
      "text/plain": [
       "{'input': 'What is the punishment for murder?',\n",
       " 'context': [Document(id='4e5707f6-6094-4ed0-8857-fbeb612d60fc', metadata={'producer': 'Acrobat Distiller 6.0 (Windows)', 'creator': 'PScript5.dll Version 5.2', 'creationdate': '2002-01-02T19:58:15+05:00', 'moddate': '2002-01-02T19:58:15+05:00', 'title': 'Microsoft Word - Pakistan Penal Code.doc', 'author': 'Administrator', 'source': './data/law.pdf', 'total_pages': 164, 'page': 27, 'page_label': '28'}, page_content='murder. \\n  \\n114. Abettor present when offence is committed: \\nWhenever any person, who if absent would be liable to be punished as an abettor, is present \\nwhen the act or offence for which he would be punishable in consequence of the abetment is \\ncommitted, he shall be deemed to have committed such act or offence. \\n  \\n115. Abetment of offence punishable with death or imprisonment for life if offence not \\ncommitted: \\nWhoever abets the commission of an offence punishable with death or imprisonment for \\nlife, shall, if that offence be not committed in consequence of the abetment, and no express \\nprovision is made by this Code for the punishment of such abetment be punished with \\nimprisonment of either description for a term which may extend to seven years, and shall \\nalso be liable to fine.  \\n If act causing harm \\nbe done in \\nconsequence: \\nAnd if any act for which the abettor is liable in consequence of the \\nabetment, and which cause hurt to any person, is done, the abettor \\nshall be liable to imprisonment of either description for a term \\nwhich may extend to fourteen years, and shall also be liable to fine. \\n  \\n \\nIllustration \\nA instigates B to murder Z. The offence is not committed. If B had murdered Z, he would \\nhave been subject to the punishment of death or transportation for fife. Therefore A is labile \\nto imprisonment for a term which may extend to seven years and also to a fine; and if any'),\n",
       "  Document(id='74c7fb87-e648-4aec-8002-8acc85df2934', metadata={'producer': 'Acrobat Distiller 6.0 (Windows)', 'creator': 'PScript5.dll Version 5.2', 'creationdate': '2002-01-02T19:58:15+05:00', 'moddate': '2002-01-02T19:58:15+05:00', 'title': 'Microsoft Word - Pakistan Penal Code.doc', 'author': 'Administrator', 'source': './data/law.pdf', 'total_pages': 164, 'page': 107, 'page_label': '108'}, page_content='be so disposed of as to be put in danger of being murdered, shall be punished with \\nimprisonment for life or rigorous imprisonment for a term which may extend to ten years \\nand shall also be liable to fine.  \\nIllustrations \\n(a) A kidnaps Z from Pakistan, intending or knowing it to be likely that Z may be \\nsacrificed to an idol. A has committed the offence defined in this section.  \\n  \\n(b) A forcibly carries or entices 5 away from his home in order that B may be murdered. A \\nhas committed the offence defined in this section.  \\n  \\n \\n  \\n364-\\nA. \\nKidnapping or abducting a person under the 140[age of fourteen] 140: \\nWhoever kidnaps or abducts any person under the  141[age of fourteen] 141 in order that such \\nperson may be murdered or subjected to grievous hurt, or slavery, or to the lust of any \\nperson or may be so disposed of as to be put in danger of being murdered or subjected to \\ngrievous hurt, or slavery, or to the lust of any person shall be punished with death or with \\nimprisonment for life or with rigorous imprisonment for a term which may extend to \\nfourteen years and shall not be less than seven years. \\n  \\n365. Kidnapping or abducting with intent secretly and wrongfully to confine person: \\nWhoever kidnaps or abducts any person with intent to cause that person to be secretly and \\nwrongfully confined, shall be punished with imprisonment of either description for a term'),\n",
       "  Document(id='745c4978-1aa4-42f4-b307-aafe07711ce2', metadata={'producer': 'Acrobat Distiller 6.0 (Windows)', 'creator': 'PScript5.dll Version 5.2', 'creationdate': '2002-01-02T19:58:15+05:00', 'moddate': '2002-01-02T19:58:15+05:00', 'title': 'Microsoft Word - Pakistan Penal Code.doc', 'author': 'Administrator', 'source': './data/law.pdf', 'total_pages': 164, 'page': 118, 'page_label': '119'}, page_content='394. Voluntarily causing hurt in committing robbery: \\nIf any person, in committing or in attempting to commit robbery, voluntarily causes hurt, \\nsuch person, and any other person jointly concerned in committing or attempting to commit \\nsuch robbery, shall be punished with imprisonment for life, or with rigorous imprisonment \\nfor a term  157[which shall not be less than four years nor more than] 157 ten years, and shall \\nalso be liable to fine. \\n  \\n395. Punishment for dacoity: \\nWhoever commits dacoity shall be punished with imprisonment for life, or with rigorous \\nimprisonment for a term which shall not be less than four years nor more than ten years and \\nshall also be liable to fine. \\n  \\n396. Dacoity with murder: \\nIf any one of five or more persons, who are conjointly committing dacoity, commits murder \\nin so committing dacoity, everyone of those persons shall be punished with death, or \\nimprisonment for life, or rigorous imprisonment for a term which  158[shall not be less than \\nfour years nor more than] 158 ten years, and shall also be liable to fine. \\n  \\n397. Robbery or dacoity, with attempt to cause death or grievous hurt: \\nIf, at the time of committing robbery or dacoity, the offender uses any deadly weapon, or \\ncauses grievous hurt to any person or attempts to cause death or grievous hurt to any person \\nthe imprisonment with which such offender shall be punished shall not be less than seven \\nyears.'),\n",
       "  Document(id='06eaac52-66c3-4a8e-9004-6e36a9fc6826', metadata={'producer': 'Acrobat Distiller 6.0 (Windows)', 'creator': 'PScript5.dll Version 5.2', 'creationdate': '2002-01-02T19:58:15+05:00', 'moddate': '2002-01-02T19:58:15+05:00', 'title': 'Microsoft Word - Pakistan Penal Code.doc', 'author': 'Administrator', 'source': './data/law.pdf', 'total_pages': 164, 'page': 132, 'page_label': '133'}, page_content='449. House-trespass in order to commit offence punishable with death: \\nWhoever commits house-trespass in order to the committing of any offence punishable with \\ndeath, shall be punished with imprisonment for life, or with rigorous imprisonment for a \\nterm not exceeding ten years, and shall also be liable to fine. \\n  \\n450. House-trespass In order to commit offence punishable with imprisonment for life: \\nWhoever commits house-trespass in order to the committing of any offence punishable with \\nimprisonment for life, shall be punished with imprisonment of either description for a term \\nnot exceeding ten years, and shall also be liable to fine. \\n  \\n451. House-trespass in order to commit offence punishable with imprisonment: \\nWhoever commits house trespass in order to the committing of any offence punishable with \\nimprisonment, shall be punished with imprisonment of either description for a term which \\nmay extend to two years, and shall also be liable to fine; and if the offence intended to be \\ncommitted is theft, the term of the imprisonment may be extended to seven years. \\n  \\n452. House-trespass after preparation for hurt, assault or wrongful restraint: \\nWhoever commits house-trespass having made preparation for causing hurt to any person or \\nfor assaulting any person, or for wrongfully restraining any person, or for putting any \\nperson in fear of hurt, or of assault, or of wrongful restraint, shall be punished with')],\n",
       " 'answer': \"<think>\\nOkay, so I need to figure out the punishment for murder based on the given legal sections. Let me start by going through each section to understand how they relate to murder and its punishment.\\n\\nFirst, I see sections about abettors and their liability. Section 114 talks about an abettor being present when the offense is committed, making them liable as if they committed it. Section 115 deals with abetting offenses punishable by death or life imprisonment. If the offense isn't committed, the abettor can get up to seven years in prison. If someone is hurt, it can go up to fourteen years. So, if someone abets murder but the murder isn't committed, they can still be punished, but not as severely as if the murder happened.\\n\\nLooking at sections 364 and 365, these are about kidnapping or abducting someone under fourteen with the intent to murder or cause harm. The punishment here can be death, life imprisonment, or up to fourteen years in jail. So, if someone kidnaps a child with the intent to murder, the punishment is severe.\\n\\nSections 394 to 397 are about robbery and causing hurt. If someone causes hurt during a robbery, they can get life imprisonment or up to ten years. If it's dacoity (which is like a more serious robbery with a group), the punishment is similar but can include death if someone is murdered during the dacoity.\\n\\nSections 449 to 452 deal with house-trespass with the intent to commit serious offenses. If someone trespasses to commit a murder, they can get life imprisonment or up to ten years. If the intended offense is punishable by life imprisonment, it's up to ten years, and for other imprisonable offenses, up to two years, or seven years if it's theft.\\n\\nPutting this together, murder itself isn't directly addressed in these sections, but the abetment and related offenses are. So, if someone abets a murder that is actually committed, they would be liable under section 114 as if they committed it. That means the punishment for murder would typically be death or life imprisonment, as those are standard punishments for murder in many legal systems.\\n\\nI should also consider if any of these sections explicitly mention murder. Section 364 mentions murder as a possible intent for kidnapping, leading to severe punishment, but not the murder itself. So, the punishment for the act of murder would fall under the general murder laws, which are likely covered elsewhere, but in the context of abetment and related offenses, the abettor would face similar severe punishments.\\n\\nTherefore, the punishment for murder, especially when considering abetment and related serious offenses, would be death or life imprisonment, possibly with fines and other terms as specified in the sections.\\n</think>\\n\\nThe punishment for murder, based on the provided legal sections, is as follows:\\n\\n1. **Abetment of Murder**: If someone abets a murder that is actually committed, they are liable under section 114 as if they committed the murder. This typically results in the same punishment as the murderer.\\n\\n2. **Punishment for Murder**: The act of murder itself generally carries severe penalties, typically death or life imprisonment, as standard in many legal systems.\\n\\n3. **Related Offenses**: If murder is committed during other serious offenses like dacoity (section 396), all involved parties can face death, life imprisonment, or up to ten years in prison.\\n\\nIn summary, the punishment for murder, especially when involving abetment or during other serious crimes, is severe, often resulting in death or life imprisonment.\"}"
      ]
     },
     "execution_count": 58,
     "metadata": {},
     "output_type": "execute_result"
    }
   ],
   "source": [
    "result = retriever_chain.invoke({\"input\":\"What is the punishment for murder?\"})\n",
    "result"
   ]
  },
  {
   "cell_type": "code",
   "execution_count": 59,
   "metadata": {},
   "outputs": [
    {
     "name": "stdout",
     "output_type": "stream",
     "text": [
      "<think>\n",
      "Okay, so I need to figure out the punishment for murder based on the given legal sections. Let me start by going through each section to understand how they relate to murder and its punishment.\n",
      "\n",
      "First, I see sections about abettors and their liability. Section 114 talks about an abettor being present when the offense is committed, making them liable as if they committed it. Section 115 deals with abetting offenses punishable by death or life imprisonment. If the offense isn't committed, the abettor can get up to seven years in prison. If someone is hurt, it can go up to fourteen years. So, if someone abets murder but the murder isn't committed, they can still be punished, but not as severely as if the murder happened.\n",
      "\n",
      "Looking at sections 364 and 365, these are about kidnapping or abducting someone under fourteen with the intent to murder or cause harm. The punishment here can be death, life imprisonment, or up to fourteen years in jail. So, if someone kidnaps a child with the intent to murder, the punishment is severe.\n",
      "\n",
      "Sections 394 to 397 are about robbery and causing hurt. If someone causes hurt during a robbery, they can get life imprisonment or up to ten years. If it's dacoity (which is like a more serious robbery with a group), the punishment is similar but can include death if someone is murdered during the dacoity.\n",
      "\n",
      "Sections 449 to 452 deal with house-trespass with the intent to commit serious offenses. If someone trespasses to commit a murder, they can get life imprisonment or up to ten years. If the intended offense is punishable by life imprisonment, it's up to ten years, and for other imprisonable offenses, up to two years, or seven years if it's theft.\n",
      "\n",
      "Putting this together, murder itself isn't directly addressed in these sections, but the abetment and related offenses are. So, if someone abets a murder that is actually committed, they would be liable under section 114 as if they committed it. That means the punishment for murder would typically be death or life imprisonment, as those are standard punishments for murder in many legal systems.\n",
      "\n",
      "I should also consider if any of these sections explicitly mention murder. Section 364 mentions murder as a possible intent for kidnapping, leading to severe punishment, but not the murder itself. So, the punishment for the act of murder would fall under the general murder laws, which are likely covered elsewhere, but in the context of abetment and related offenses, the abettor would face similar severe punishments.\n",
      "\n",
      "Therefore, the punishment for murder, especially when considering abetment and related serious offenses, would be death or life imprisonment, possibly with fines and other terms as specified in the sections.\n",
      "</think>\n",
      "\n",
      "The punishment for murder, based on the provided legal sections, is as follows:\n",
      "\n",
      "1. **Abetment of Murder**: If someone abets a murder that is actually committed, they are liable under section 114 as if they committed the murder. This typically results in the same punishment as the murderer.\n",
      "\n",
      "2. **Punishment for Murder**: The act of murder itself generally carries severe penalties, typically death or life imprisonment, as standard in many legal systems.\n",
      "\n",
      "3. **Related Offenses**: If murder is committed during other serious offenses like dacoity (section 396), all involved parties can face death, life imprisonment, or up to ten years in prison.\n",
      "\n",
      "In summary, the punishment for murder, especially when involving abetment or during other serious crimes, is severe, often resulting in death or life imprisonment.\n"
     ]
    }
   ],
   "source": [
    "print(result[\"answer\"])"
   ]
  },
  {
   "cell_type": "code",
   "execution_count": 60,
   "metadata": {},
   "outputs": [
    {
     "name": "stdout",
     "output_type": "stream",
     "text": [
      "be so disposed of as to be put in danger of being murdered, shall be punished with \n",
      "imprisonment for life or rigorous imprisonment for a term which may extend to ten years \n",
      "and shall also be liable to fine.  \n",
      "Illustrations \n",
      "(a) A kidnaps Z from Pakistan, intending or knowing it to be likely that Z may be \n",
      "sacrificed to an idol. A has committed the offence defined in this section.  \n",
      "  \n",
      "(b) A forcibly carries or entices 5 away from his home in order that B may be murdered. A \n",
      "has committed the offence defined in this section.  \n",
      "  \n",
      " \n",
      "  \n",
      "364-\n",
      "A. \n",
      "Kidnapping or abducting a person under the 140[age of fourteen] 140: \n",
      "Whoever kidnaps or abducts any person under the  141[age of fourteen] 141 in order that such \n",
      "person may be murdered or subjected to grievous hurt, or slavery, or to the lust of any \n",
      "person or may be so disposed of as to be put in danger of being murdered or subjected to \n",
      "grievous hurt, or slavery, or to the lust of any person shall be punished with death or with \n",
      "imprisonment for life or with rigorous imprisonment for a term which may extend to \n",
      "fourteen years and shall not be less than seven years. \n",
      "  \n",
      "365. Kidnapping or abducting with intent secretly and wrongfully to confine person: \n",
      "Whoever kidnaps or abducts any person with intent to cause that person to be secretly and \n",
      "wrongfully confined, shall be punished with imprisonment of either description for a term\n"
     ]
    }
   ],
   "source": [
    "print(result[\"context\"][1].page_content)"
   ]
  },
  {
   "cell_type": "code",
   "execution_count": 65,
   "metadata": {},
   "outputs": [
    {
     "data": {
      "text/plain": [
       "{'input': 'Responsibilities of the PM?',\n",
       " 'context': [Document(id='23fd5fd5-7520-49ce-93ee-da9c39039491', metadata={'producer': 'Acrobat Distiller 6.0 (Windows)', 'creator': 'PScript5.dll Version 5.2', 'creationdate': '2002-01-02T19:58:15+05:00', 'moddate': '2002-01-02T19:58:15+05:00', 'title': 'Microsoft Word - Pakistan Penal Code.doc', 'author': 'Administrator', 'source': './data/law.pdf', 'total_pages': 164, 'page': 3, 'page_label': '4'}, page_content='of such duties;  \\nFifth:  Every juryman, assessor, or member of  a panchayat assisting a Court of Justice or \\npublic servant;  \\nSixth:  Every arbitrator or other person to whom any cause or matter has been referred for \\ndecision or report by any Court of Justice, or by any other competent public \\nauthority;  \\nSeventh:  Every person who holds any office by virtue of which he is empowered to place \\nor keep any person in confinement;  \\nEighth:  Every officer of the Government wh ose duty it is, as such officer, to prevent \\noffences, to give information of offences, to bring offenders to justice, or to \\nprotect the public health, safety or convenience;  \\nNinth:  Every officer whose duty it is, as su ch officer, to take, receive, keep or expend \\nany property on behalf of the Government, or to make any survey, assessment or \\ncontract on behalf of the Government, or to execute any revenue process, or to \\ninvestigate, or to report, or any matter affecting the pecuniary interests of the \\nGovernment, or to make, authenticate or keep any document relating to the \\npecuniary interests of the Government, or to prevent the infraction of any law for \\nthe protection of the pecuniary interests of the Government, and every officer in'),\n",
       "  Document(id='870a79f1-b448-41d6-8fb2-7f6f96fa9f21', metadata={'producer': 'Acrobat Distiller 6.0 (Windows)', 'creator': 'PScript5.dll Version 5.2', 'creationdate': '2002-01-02T19:58:15+05:00', 'moddate': '2002-01-02T19:58:15+05:00', 'title': 'Microsoft Word - Pakistan Penal Code.doc', 'author': 'Administrator', 'source': './data/law.pdf', 'total_pages': 164, 'page': 2, 'page_label': '3'}, page_content='executive Government in Pakistan, or in any part thereof. \\n  \\n 10[] 10  \\n19. \"Judge\". \\nThe word \"Judge\" denotes not only every person who is officially designated as a Judge, but \\nalso every person--  \\n who is empowered by law to give, in any legal proceeding, civil or criminal, a definitive \\njudgment or a judgment which, if not appealed against, would be definitive, or a judgment \\nwhich, if confirmed by some other authority, would be definitive, or  \\n who is one of a body of persons, which body of persons is empowered by law to give such'),\n",
       "  Document(id='72dd3a6c-ef32-4137-b2d5-0122ff993230', metadata={'producer': 'Acrobat Distiller 6.0 (Windows)', 'creator': 'PScript5.dll Version 5.2', 'creationdate': '2002-01-02T19:58:15+05:00', 'moddate': '2002-01-02T19:58:15+05:00', 'title': 'Microsoft Word - Pakistan Penal Code.doc', 'author': 'Administrator', 'source': './data/law.pdf', 'total_pages': 164, 'page': 46, 'page_label': '47'}, page_content='expenses where incurred the approval in writing of the candidate, he shall be deemed to \\nhave incurred such expenses with the authority of the candidate.  \\n  \\n171-\\nI. \\nFailure to keep election accounts: \\nWhoever being required by any law for the time being in force or any rule having the force \\nof law to keep accounts of expenses incurred at or in connection with an election fails to'),\n",
       "  Document(id='fc5492d5-b973-440c-b593-a418f4f324bd', metadata={'producer': 'Acrobat Distiller 6.0 (Windows)', 'creator': 'PScript5.dll Version 5.2', 'creationdate': '2002-01-02T19:58:15+05:00', 'moddate': '2002-01-02T19:58:15+05:00', 'title': 'Microsoft Word - Pakistan Penal Code.doc', 'author': 'Administrator', 'source': './data/law.pdf', 'total_pages': 164, 'page': 51, 'page_label': '52'}, page_content='execution of his public duty, intentionally omits to give such assistance, shall be punished \\nwith simple imprisonment for a term which may extend to one month, or with fine which \\nmay extend to  69[six hundred rupees] 69, or with both; and if such assistance, be demanded \\nof him by public servant legally competent to make such demand for the purposes of \\nexecuting any process lawfully issued by a Court of Justice, or of preventing the \\ncommission of an offence, or of suppressing a riot, or affray, or of apprehending a person \\ncharged with or guilty of an offence, or of having escaped from lawful custody, shall be \\npunished with simple imprisonment for a term which may extend to six months, or with fine \\nwhich may extend to  70[one thousand five hundred rupees] 70, or with both.')],\n",
       " 'answer': '<think>\\nOkay, so I\\'m trying to understand the responsibilities of the Prime Minister (PM) in Pakistan based on the provided legal text. The text is a bit dense and filled with legal jargon, so I\\'ll need to break it down step by step.\\n\\nFirst, I notice that the text lists several categories of people who fall under certain duties and responsibilities, especially related to public service. These include jury members, assessors, arbitrators, and various government officers. The PM is mentioned in the ninth point under \"Every officer in executive Government in Pakistan,\" which suggests that the PM is part of the executive branch and has specific duties tied to their role.\\n\\nLooking further, the text discusses election expenses and the failure to keep proper accounts, which might relate to the PM\\'s role in ensuring legal compliance, especially regarding financial transparency. There\\'s also mention of assisting public servants and the consequences of failing to do so, which could imply that the PM has a duty to support other public officials in their tasks.\\n\\nThe section about judges defines a judge as someone who can give definitive judgments, which might not directly relate to the PM but indicates a broader legal framework that the PM operates within. The PM\\'s role in appointing or influencing such judges could be part of their responsibilities.\\n\\nThe text also talks about penalties for not fulfilling public duties, such as failing to assist in executing legal processes. This might mean the PM is responsible for ensuring that their administration enforces laws properly and that public servants under them are held accountable.\\n\\nI\\'m a bit confused about how all these points tie together to outline the PM\\'s specific responsibilities. The text seems to focus more on the duties of various public officials rather than detailing the PM\\'s role explicitly. I might need to infer the PM\\'s responsibilities based on the context provided.\\n\\nPerhaps the PM\\'s role includes overseeing government officers, ensuring that they prevent offenses, protect public health and safety, manage government property, and maintain financial accountability. The PM might also be responsible for appointing judges and other officials, ensuring the proper execution of laws, and maintaining the overall functioning of the executive branch.\\n\\nI should also consider that the PM is the head of government, so they would have leadership responsibilities, including setting policy, advising the President, and representing the nation both domestically and internationally. These aspects might not be explicitly mentioned in the provided text but are generally understood as part of a PM\\'s role.\\n\\nIn summary, while the text doesn\\'t outline the PM\\'s responsibilities in a dedicated section, it provides clues through the duties of other public officials and the structure of the executive government. The PM likely oversees these officials, ensures compliance with laws, manages government resources, and leads the country\\'s policy and direction.\\n</think>\\n\\nThe Prime Minister (PM) of Pakistan plays a pivotal role as the head of the executive branch of government, with responsibilities inferred from the provided legal text and general understanding of the role. Here is a structured summary of the PM\\'s responsibilities:\\n\\n1. **Leadership and Oversight**: The PM leads the government, overseeing various public officials and ensuring they fulfill their duties effectively. This includes managing government officers involved in preventing offenses, protecting public health, and maintaining safety.\\n\\n2. **Financial Accountability**: The PM is responsible for ensuring financial transparency and accountability within the government. This includes proper management of government property, expenditures, and compliance with financial regulations.\\n\\n3. **Judicial Appointments**: The PM may influence or appoint judges and other officials, ensuring the judiciary functions smoothly and impartially under the legal framework.\\n\\n4. **Policy and Direction**: As the head of government, the PM sets and implements policies, guiding the nation\\'s development and representing Pakistan in international affairs.\\n\\n5. **Legal Compliance**: The PM ensures that the administration enforces laws properly, holding public servants accountable for their duties and the execution of legal processes.\\n\\nIn essence, the PM\\'s role encompasses leadership, oversight, financial management, judicial appointments, policy formulation, and ensuring legal compliance, all of which are crucial for the effective governance of Pakistan.'}"
      ]
     },
     "execution_count": 65,
     "metadata": {},
     "output_type": "execute_result"
    }
   ],
   "source": [
    "result = retriever_chain.invoke({\"input\":\"Responsibilities of the PM?\"})\n",
    "result"
   ]
  },
  {
   "cell_type": "code",
   "execution_count": 66,
   "metadata": {},
   "outputs": [
    {
     "name": "stdout",
     "output_type": "stream",
     "text": [
      "<think>\n",
      "Okay, so I'm trying to understand the responsibilities of the Prime Minister (PM) in Pakistan based on the provided legal text. The text is a bit dense and filled with legal jargon, so I'll need to break it down step by step.\n",
      "\n",
      "First, I notice that the text lists several categories of people who fall under certain duties and responsibilities, especially related to public service. These include jury members, assessors, arbitrators, and various government officers. The PM is mentioned in the ninth point under \"Every officer in executive Government in Pakistan,\" which suggests that the PM is part of the executive branch and has specific duties tied to their role.\n",
      "\n",
      "Looking further, the text discusses election expenses and the failure to keep proper accounts, which might relate to the PM's role in ensuring legal compliance, especially regarding financial transparency. There's also mention of assisting public servants and the consequences of failing to do so, which could imply that the PM has a duty to support other public officials in their tasks.\n",
      "\n",
      "The section about judges defines a judge as someone who can give definitive judgments, which might not directly relate to the PM but indicates a broader legal framework that the PM operates within. The PM's role in appointing or influencing such judges could be part of their responsibilities.\n",
      "\n",
      "The text also talks about penalties for not fulfilling public duties, such as failing to assist in executing legal processes. This might mean the PM is responsible for ensuring that their administration enforces laws properly and that public servants under them are held accountable.\n",
      "\n",
      "I'm a bit confused about how all these points tie together to outline the PM's specific responsibilities. The text seems to focus more on the duties of various public officials rather than detailing the PM's role explicitly. I might need to infer the PM's responsibilities based on the context provided.\n",
      "\n",
      "Perhaps the PM's role includes overseeing government officers, ensuring that they prevent offenses, protect public health and safety, manage government property, and maintain financial accountability. The PM might also be responsible for appointing judges and other officials, ensuring the proper execution of laws, and maintaining the overall functioning of the executive branch.\n",
      "\n",
      "I should also consider that the PM is the head of government, so they would have leadership responsibilities, including setting policy, advising the President, and representing the nation both domestically and internationally. These aspects might not be explicitly mentioned in the provided text but are generally understood as part of a PM's role.\n",
      "\n",
      "In summary, while the text doesn't outline the PM's responsibilities in a dedicated section, it provides clues through the duties of other public officials and the structure of the executive government. The PM likely oversees these officials, ensures compliance with laws, manages government resources, and leads the country's policy and direction.\n",
      "</think>\n",
      "\n",
      "The Prime Minister (PM) of Pakistan plays a pivotal role as the head of the executive branch of government, with responsibilities inferred from the provided legal text and general understanding of the role. Here is a structured summary of the PM's responsibilities:\n",
      "\n",
      "1. **Leadership and Oversight**: The PM leads the government, overseeing various public officials and ensuring they fulfill their duties effectively. This includes managing government officers involved in preventing offenses, protecting public health, and maintaining safety.\n",
      "\n",
      "2. **Financial Accountability**: The PM is responsible for ensuring financial transparency and accountability within the government. This includes proper management of government property, expenditures, and compliance with financial regulations.\n",
      "\n",
      "3. **Judicial Appointments**: The PM may influence or appoint judges and other officials, ensuring the judiciary functions smoothly and impartially under the legal framework.\n",
      "\n",
      "4. **Policy and Direction**: As the head of government, the PM sets and implements policies, guiding the nation's development and representing Pakistan in international affairs.\n",
      "\n",
      "5. **Legal Compliance**: The PM ensures that the administration enforces laws properly, holding public servants accountable for their duties and the execution of legal processes.\n",
      "\n",
      "In essence, the PM's role encompasses leadership, oversight, financial management, judicial appointments, policy formulation, and ensuring legal compliance, all of which are crucial for the effective governance of Pakistan.\n"
     ]
    }
   ],
   "source": [
    "print(result[\"answer\"])"
   ]
  }
 ],
 "metadata": {
  "kernelspec": {
   "display_name": "Python 3",
   "language": "python",
   "name": "python3"
  },
  "language_info": {
   "codemirror_mode": {
    "name": "ipython",
    "version": 3
   },
   "file_extension": ".py",
   "mimetype": "text/x-python",
   "name": "python",
   "nbconvert_exporter": "python",
   "pygments_lexer": "ipython3",
   "version": "3.12.0"
  }
 },
 "nbformat": 4,
 "nbformat_minor": 2
}
